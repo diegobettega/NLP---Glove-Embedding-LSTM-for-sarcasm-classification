{
 "cells": [
  {
   "cell_type": "markdown",
   "metadata": {
    "colab_type": "text",
    "id": "pp68FAQf9aMN"
   },
   "source": [
    "# Bidirectional LSTM in Keras with GloVe embeddings:\n",
    "\n",
    "In this quick kernel I'm going to use a multilayered bidirectional LSTM to classify text. Rather than using random embeddings for words I'm going to use GloVe embeddings.\n",
    "This has the benifit that words which are close to one another are in some sense close in the embedding space.\n",
    "\n",
    "# Description\n",
    "Past studies in Sarcasm Detection mostly make use of Twitter datasets collected using hashtag based supervision, but such datasets are noisy in terms of labels and language. Furthermore, many tweets are replies to other tweets and detecting sarcasm in these requires the availability of contextual tweets.\n",
    "In this hands-on project, the goal is to build a model to detect whether a sentence is sarcastic or not using Bidirectional LSTMs.\n",
    "\n",
    "# Dataset\n",
    "News Headlines dataset for Sarcasm Detection\n",
    "\n",
    "The dataset is collected from two news websites, theonion.com and huffingtonpost.com\n",
    "\n",
    "This new dataset has the following advantages over the existing Twitter datasets: since news headlines are written by professionals in a formal manner, there are no spelling mistakes and informal usage. This reduces the sparsity and also increases the chance of finding pre-trained embeddings. Furthermore, since the sole purpose of TheOnion is to publish sarcastic news, we get high-quality labels with much less noise as compared to Twitter datasets. Unlike tweets that reply to other tweets, the news headlines obtained are self-contained. This would help us in teasing apart the real sarcastic elements.\n",
    "\n",
    "Content\n",
    "\n",
    "Each record consists of three attributes:\n",
    "- is_sarcastic: 1 if the record is sarcastic otherwise 0\n",
    "- headline: the headline of the news article\n",
    "- article_link: link to the original news article. Useful in collecting supplementary data\n",
    "\n",
    "Reference:\n",
    "https://github.com/rishabhmisra/News-Headlines-Dataset-For-Sarcasm-Detection\n",
    "\n",
    "Implementation steps:\n",
    "\n",
    "1. Read and explore the data\n",
    "2. Drop one column\n",
    "3. Get length of each sentence\n",
    "4. Define parameters\n",
    "5. Get indices for words\n",
    "6. Create features and labels\n",
    "7. Get vocab size\n",
    "8. Create a weight matrix using GloVe embeddings\n",
    "9. Define and compile a Bidirectional LSTM model\n",
    "10. Fit the model and check the validation accuracy\n",
    "\n",
    "\n",
    "# Sarcasm Detection"
   ]
  },
  {
   "cell_type": "markdown",
   "metadata": {
    "colab_type": "text",
    "id": "S3Wj_mIZ8S3K"
   },
   "source": [
    "## Install `Tensorflow2.0` "
   ]
  },
  {
   "cell_type": "code",
   "execution_count": 1,
   "metadata": {
    "colab": {
     "base_uri": "https://localhost:8080/",
     "height": 986
    },
    "colab_type": "code",
    "executionInfo": {
     "elapsed": 62542,
     "status": "ok",
     "timestamp": 1585823040805,
     "user": {
      "displayName": "Diego Bettega",
      "photoUrl": "",
      "userId": "03322776042066350638"
     },
     "user_tz": -60
    },
    "id": "jW2Uk8otQvi8",
    "outputId": "5342926f-1794-4281-e9d5-52249d03df35"
   },
   "outputs": [
    {
     "name": "stdout",
     "output_type": "stream",
     "text": [
      "Collecting tensorflow==2.0.0\n",
      "\u001b[?25l  Downloading https://files.pythonhosted.org/packages/46/0f/7bd55361168bb32796b360ad15a25de6966c9c1beb58a8e30c01c8279862/tensorflow-2.0.0-cp36-cp36m-manylinux2010_x86_64.whl (86.3MB)\n",
      "\u001b[K     |████████████████████████████████| 86.3MB 119kB/s \n",
      "\u001b[?25hRequirement already satisfied: opt-einsum>=2.3.2 in /usr/local/lib/python3.6/dist-packages (from tensorflow==2.0.0) (3.2.0)\n",
      "Requirement already satisfied: six>=1.10.0 in /usr/local/lib/python3.6/dist-packages (from tensorflow==2.0.0) (1.12.0)\n",
      "Collecting tensorflow-estimator<2.1.0,>=2.0.0\n",
      "\u001b[?25l  Downloading https://files.pythonhosted.org/packages/fc/08/8b927337b7019c374719145d1dceba21a8bb909b93b1ad6f8fb7d22c1ca1/tensorflow_estimator-2.0.1-py2.py3-none-any.whl (449kB)\n",
      "\u001b[K     |████████████████████████████████| 450kB 62.2MB/s \n",
      "\u001b[?25hRequirement already satisfied: astor>=0.6.0 in /usr/local/lib/python3.6/dist-packages (from tensorflow==2.0.0) (0.8.1)\n",
      "Requirement already satisfied: numpy<2.0,>=1.16.0 in /usr/local/lib/python3.6/dist-packages (from tensorflow==2.0.0) (1.18.2)\n",
      "Collecting gast==0.2.2\n",
      "  Downloading https://files.pythonhosted.org/packages/4e/35/11749bf99b2d4e3cceb4d55ca22590b0d7c2c62b9de38ac4a4a7f4687421/gast-0.2.2.tar.gz\n",
      "Requirement already satisfied: protobuf>=3.6.1 in /usr/local/lib/python3.6/dist-packages (from tensorflow==2.0.0) (3.10.0)\n",
      "Requirement already satisfied: keras-applications>=1.0.8 in /usr/local/lib/python3.6/dist-packages (from tensorflow==2.0.0) (1.0.8)\n",
      "Requirement already satisfied: termcolor>=1.1.0 in /usr/local/lib/python3.6/dist-packages (from tensorflow==2.0.0) (1.1.0)\n",
      "Requirement already satisfied: wrapt>=1.11.1 in /usr/local/lib/python3.6/dist-packages (from tensorflow==2.0.0) (1.12.1)\n",
      "Requirement already satisfied: wheel>=0.26 in /usr/local/lib/python3.6/dist-packages (from tensorflow==2.0.0) (0.34.2)\n",
      "Requirement already satisfied: absl-py>=0.7.0 in /usr/local/lib/python3.6/dist-packages (from tensorflow==2.0.0) (0.9.0)\n",
      "Requirement already satisfied: google-pasta>=0.1.6 in /usr/local/lib/python3.6/dist-packages (from tensorflow==2.0.0) (0.2.0)\n",
      "Requirement already satisfied: grpcio>=1.8.6 in /usr/local/lib/python3.6/dist-packages (from tensorflow==2.0.0) (1.27.2)\n",
      "Requirement already satisfied: keras-preprocessing>=1.0.5 in /usr/local/lib/python3.6/dist-packages (from tensorflow==2.0.0) (1.1.0)\n",
      "Collecting tensorboard<2.1.0,>=2.0.0\n",
      "\u001b[?25l  Downloading https://files.pythonhosted.org/packages/76/54/99b9d5d52d5cb732f099baaaf7740403e83fe6b0cedde940fabd2b13d75a/tensorboard-2.0.2-py3-none-any.whl (3.8MB)\n",
      "\u001b[K     |████████████████████████████████| 3.8MB 35.8MB/s \n",
      "\u001b[?25hRequirement already satisfied: setuptools in /usr/local/lib/python3.6/dist-packages (from protobuf>=3.6.1->tensorflow==2.0.0) (46.0.0)\n",
      "Requirement already satisfied: h5py in /usr/local/lib/python3.6/dist-packages (from keras-applications>=1.0.8->tensorflow==2.0.0) (2.10.0)\n",
      "Requirement already satisfied: google-auth-oauthlib<0.5,>=0.4.1 in /usr/local/lib/python3.6/dist-packages (from tensorboard<2.1.0,>=2.0.0->tensorflow==2.0.0) (0.4.1)\n",
      "Requirement already satisfied: markdown>=2.6.8 in /usr/local/lib/python3.6/dist-packages (from tensorboard<2.1.0,>=2.0.0->tensorflow==2.0.0) (3.2.1)\n",
      "Requirement already satisfied: google-auth<2,>=1.6.3 in /usr/local/lib/python3.6/dist-packages (from tensorboard<2.1.0,>=2.0.0->tensorflow==2.0.0) (1.7.2)\n",
      "Requirement already satisfied: werkzeug>=0.11.15 in /usr/local/lib/python3.6/dist-packages (from tensorboard<2.1.0,>=2.0.0->tensorflow==2.0.0) (1.0.0)\n",
      "Requirement already satisfied: requests<3,>=2.21.0 in /usr/local/lib/python3.6/dist-packages (from tensorboard<2.1.0,>=2.0.0->tensorflow==2.0.0) (2.21.0)\n",
      "Requirement already satisfied: requests-oauthlib>=0.7.0 in /usr/local/lib/python3.6/dist-packages (from google-auth-oauthlib<0.5,>=0.4.1->tensorboard<2.1.0,>=2.0.0->tensorflow==2.0.0) (1.3.0)\n",
      "Requirement already satisfied: pyasn1-modules>=0.2.1 in /usr/local/lib/python3.6/dist-packages (from google-auth<2,>=1.6.3->tensorboard<2.1.0,>=2.0.0->tensorflow==2.0.0) (0.2.8)\n",
      "Requirement already satisfied: rsa<4.1,>=3.1.4 in /usr/local/lib/python3.6/dist-packages (from google-auth<2,>=1.6.3->tensorboard<2.1.0,>=2.0.0->tensorflow==2.0.0) (4.0)\n",
      "Requirement already satisfied: cachetools<3.2,>=2.0.0 in /usr/local/lib/python3.6/dist-packages (from google-auth<2,>=1.6.3->tensorboard<2.1.0,>=2.0.0->tensorflow==2.0.0) (3.1.1)\n",
      "Requirement already satisfied: chardet<3.1.0,>=3.0.2 in /usr/local/lib/python3.6/dist-packages (from requests<3,>=2.21.0->tensorboard<2.1.0,>=2.0.0->tensorflow==2.0.0) (3.0.4)\n",
      "Requirement already satisfied: certifi>=2017.4.17 in /usr/local/lib/python3.6/dist-packages (from requests<3,>=2.21.0->tensorboard<2.1.0,>=2.0.0->tensorflow==2.0.0) (2019.11.28)\n",
      "Requirement already satisfied: idna<2.9,>=2.5 in /usr/local/lib/python3.6/dist-packages (from requests<3,>=2.21.0->tensorboard<2.1.0,>=2.0.0->tensorflow==2.0.0) (2.8)\n",
      "Requirement already satisfied: urllib3<1.25,>=1.21.1 in /usr/local/lib/python3.6/dist-packages (from requests<3,>=2.21.0->tensorboard<2.1.0,>=2.0.0->tensorflow==2.0.0) (1.24.3)\n",
      "Requirement already satisfied: oauthlib>=3.0.0 in /usr/local/lib/python3.6/dist-packages (from requests-oauthlib>=0.7.0->google-auth-oauthlib<0.5,>=0.4.1->tensorboard<2.1.0,>=2.0.0->tensorflow==2.0.0) (3.1.0)\n",
      "Requirement already satisfied: pyasn1<0.5.0,>=0.4.6 in /usr/local/lib/python3.6/dist-packages (from pyasn1-modules>=0.2.1->google-auth<2,>=1.6.3->tensorboard<2.1.0,>=2.0.0->tensorflow==2.0.0) (0.4.8)\n",
      "Building wheels for collected packages: gast\n",
      "  Building wheel for gast (setup.py) ... \u001b[?25l\u001b[?25hdone\n",
      "  Created wheel for gast: filename=gast-0.2.2-cp36-none-any.whl size=7540 sha256=6742d8defd2208f67b1f22524906e9803727297bb616589837ada923ae8975c7\n",
      "  Stored in directory: /root/.cache/pip/wheels/5c/2e/7e/a1d4d4fcebe6c381f378ce7743a3ced3699feb89bcfbdadadd\n",
      "Successfully built gast\n",
      "Installing collected packages: tensorflow-estimator, gast, tensorboard, tensorflow\n",
      "  Found existing installation: tensorflow-estimator 2.2.0rc0\n",
      "    Uninstalling tensorflow-estimator-2.2.0rc0:\n",
      "      Successfully uninstalled tensorflow-estimator-2.2.0rc0\n",
      "  Found existing installation: gast 0.3.3\n",
      "    Uninstalling gast-0.3.3:\n",
      "      Successfully uninstalled gast-0.3.3\n",
      "  Found existing installation: tensorboard 2.2.0\n",
      "    Uninstalling tensorboard-2.2.0:\n",
      "      Successfully uninstalled tensorboard-2.2.0\n",
      "Successfully installed gast-0.2.2 tensorboard-2.0.2 tensorflow-2.0.0 tensorflow-estimator-2.0.1\n"
     ]
    }
   ],
   "source": [
    "!!pip uninstall tensorflow\n",
    "!pip install tensorflow==2.0.0"
   ]
  },
  {
   "cell_type": "markdown",
   "metadata": {
    "colab_type": "text",
    "id": "v9kv9tyJ77eF"
   },
   "source": [
    "#### Get required files from drive:"
   ]
  },
  {
   "cell_type": "code",
   "execution_count": 2,
   "metadata": {
    "colab": {
     "base_uri": "https://localhost:8080/",
     "height": 122
    },
    "colab_type": "code",
    "executionInfo": {
     "elapsed": 22681,
     "status": "ok",
     "timestamp": 1585823094737,
     "user": {
      "displayName": "Diego Bettega",
      "photoUrl": "",
      "userId": "03322776042066350638"
     },
     "user_tz": -60
    },
    "id": "D0O_n6OIEVyL",
    "outputId": "74bd0690-f37b-4e93-fa46-7fe49f064ba0"
   },
   "outputs": [
    {
     "name": "stdout",
     "output_type": "stream",
     "text": [
      "Go to this URL in a browser: https://accounts.google.com/o/oauth2/auth?client_id=947318989803-6bn6qk8qdgf4n4g3pfee6491hc0brc4i.apps.googleusercontent.com&redirect_uri=urn%3aietf%3awg%3aoauth%3a2.0%3aoob&response_type=code&scope=email%20https%3a%2f%2fwww.googleapis.com%2fauth%2fdocs.test%20https%3a%2f%2fwww.googleapis.com%2fauth%2fdrive%20https%3a%2f%2fwww.googleapis.com%2fauth%2fdrive.photos.readonly%20https%3a%2f%2fwww.googleapis.com%2fauth%2fpeopleapi.readonly\n",
      "\n",
      "Enter your authorization code:\n",
      "··········\n",
      "Mounted at /content/drive/\n"
     ]
    }
   ],
   "source": [
    "from google.colab import drive\n",
    "drive.mount('/content/drive/')"
   ]
  },
  {
   "cell_type": "markdown",
   "metadata": {
    "colab_type": "text",
    "id": "bn09OXU1eRHR"
   },
   "source": [
    "#### Change te working directory:"
   ]
  },
  {
   "cell_type": "code",
   "execution_count": 0,
   "metadata": {
    "colab": {},
    "colab_type": "code",
    "id": "0mgRpOvFMjKR"
   },
   "outputs": [],
   "source": [
    "import os\n",
    "project_path =  'My Drive/Machine Learning/Project 7/'\n",
    "os.chdir('/content/drive/' + project_path) # Updating the working directory"
   ]
  },
  {
   "cell_type": "markdown",
   "metadata": {
    "colab_type": "text",
    "id": "vAk6BRUh8CqL"
   },
   "source": [
    "#### Read Data \"Sarcasm_Headlines_Dataset.json\". Explore the data and get  some insights about the data."
   ]
  },
  {
   "cell_type": "code",
   "execution_count": 4,
   "metadata": {
    "colab": {
     "base_uri": "https://localhost:8080/",
     "height": 221
    },
    "colab_type": "code",
    "executionInfo": {
     "elapsed": 1985,
     "status": "ok",
     "timestamp": 1585823098666,
     "user": {
      "displayName": "Diego Bettega",
      "photoUrl": "",
      "userId": "03322776042066350638"
     },
     "user_tz": -60
    },
    "id": "HpAGUPbxIfke",
    "outputId": "f2af8e46-3a62-4e70-de9d-b4c1568eac31"
   },
   "outputs": [
    {
     "name": "stdout",
     "output_type": "stream",
     "text": [
      "This dataset has 26709 rows, and 3 columns\n"
     ]
    },
    {
     "data": {
      "text/html": [
       "<div>\n",
       "<style scoped>\n",
       "    .dataframe tbody tr th:only-of-type {\n",
       "        vertical-align: middle;\n",
       "    }\n",
       "\n",
       "    .dataframe tbody tr th {\n",
       "        vertical-align: top;\n",
       "    }\n",
       "\n",
       "    .dataframe thead th {\n",
       "        text-align: right;\n",
       "    }\n",
       "</style>\n",
       "<table border=\"1\" class=\"dataframe\">\n",
       "  <thead>\n",
       "    <tr style=\"text-align: right;\">\n",
       "      <th></th>\n",
       "      <th>article_link</th>\n",
       "      <th>headline</th>\n",
       "      <th>is_sarcastic</th>\n",
       "    </tr>\n",
       "  </thead>\n",
       "  <tbody>\n",
       "    <tr>\n",
       "      <th>0</th>\n",
       "      <td>https://www.huffingtonpost.com/entry/versace-b...</td>\n",
       "      <td>former versace store clerk sues over secret 'b...</td>\n",
       "      <td>0</td>\n",
       "    </tr>\n",
       "    <tr>\n",
       "      <th>1</th>\n",
       "      <td>https://www.huffingtonpost.com/entry/roseanne-...</td>\n",
       "      <td>the 'roseanne' revival catches up to our thorn...</td>\n",
       "      <td>0</td>\n",
       "    </tr>\n",
       "    <tr>\n",
       "      <th>2</th>\n",
       "      <td>https://local.theonion.com/mom-starting-to-fea...</td>\n",
       "      <td>mom starting to fear son's web series closest ...</td>\n",
       "      <td>1</td>\n",
       "    </tr>\n",
       "    <tr>\n",
       "      <th>3</th>\n",
       "      <td>https://politics.theonion.com/boehner-just-wan...</td>\n",
       "      <td>boehner just wants wife to listen, not come up...</td>\n",
       "      <td>1</td>\n",
       "    </tr>\n",
       "    <tr>\n",
       "      <th>4</th>\n",
       "      <td>https://www.huffingtonpost.com/entry/jk-rowlin...</td>\n",
       "      <td>j.k. rowling wishes snape happy birthday in th...</td>\n",
       "      <td>0</td>\n",
       "    </tr>\n",
       "  </tbody>\n",
       "</table>\n",
       "</div>"
      ],
      "text/plain": [
       "                                        article_link  ... is_sarcastic\n",
       "0  https://www.huffingtonpost.com/entry/versace-b...  ...            0\n",
       "1  https://www.huffingtonpost.com/entry/roseanne-...  ...            0\n",
       "2  https://local.theonion.com/mom-starting-to-fea...  ...            1\n",
       "3  https://politics.theonion.com/boehner-just-wan...  ...            1\n",
       "4  https://www.huffingtonpost.com/entry/jk-rowlin...  ...            0\n",
       "\n",
       "[5 rows x 3 columns]"
      ]
     },
     "execution_count": 4,
     "metadata": {
      "tags": []
     },
     "output_type": "execute_result"
    }
   ],
   "source": [
    "import pandas as pd\n",
    "df = pd.read_json (r'./Sarcasm_Headlines_Dataset.json', lines=True)\n",
    "print('This dataset has ' + str(df.shape[0]) + ' rows, and ' + str(df.shape[1]) + ' columns')\n",
    "df.head()"
   ]
  },
  {
   "cell_type": "markdown",
   "metadata": {
    "colab_type": "text",
    "id": "z6pXf7A78E2H"
   },
   "source": [
    "#### Drop `article_link` from dataset and rename the columns:"
   ]
  },
  {
   "cell_type": "code",
   "execution_count": 5,
   "metadata": {
    "colab": {
     "base_uri": "https://localhost:8080/",
     "height": 204
    },
    "colab_type": "code",
    "executionInfo": {
     "elapsed": 1304,
     "status": "ok",
     "timestamp": 1585823100869,
     "user": {
      "displayName": "Diego Bettega",
      "photoUrl": "",
      "userId": "03322776042066350638"
     },
     "user_tz": -60
    },
    "id": "KdrkxUk_tmM0",
    "outputId": "8feaed32-1a25-40d3-bfbf-4e31bde1bec2"
   },
   "outputs": [
    {
     "data": {
      "text/html": [
       "<div>\n",
       "<style scoped>\n",
       "    .dataframe tbody tr th:only-of-type {\n",
       "        vertical-align: middle;\n",
       "    }\n",
       "\n",
       "    .dataframe tbody tr th {\n",
       "        vertical-align: top;\n",
       "    }\n",
       "\n",
       "    .dataframe thead th {\n",
       "        text-align: right;\n",
       "    }\n",
       "</style>\n",
       "<table border=\"1\" class=\"dataframe\">\n",
       "  <thead>\n",
       "    <tr style=\"text-align: right;\">\n",
       "      <th></th>\n",
       "      <th>headline</th>\n",
       "      <th>Target</th>\n",
       "    </tr>\n",
       "  </thead>\n",
       "  <tbody>\n",
       "    <tr>\n",
       "      <th>0</th>\n",
       "      <td>former versace store clerk sues over secret 'b...</td>\n",
       "      <td>0</td>\n",
       "    </tr>\n",
       "    <tr>\n",
       "      <th>1</th>\n",
       "      <td>the 'roseanne' revival catches up to our thorn...</td>\n",
       "      <td>0</td>\n",
       "    </tr>\n",
       "    <tr>\n",
       "      <th>2</th>\n",
       "      <td>mom starting to fear son's web series closest ...</td>\n",
       "      <td>1</td>\n",
       "    </tr>\n",
       "    <tr>\n",
       "      <th>3</th>\n",
       "      <td>boehner just wants wife to listen, not come up...</td>\n",
       "      <td>1</td>\n",
       "    </tr>\n",
       "    <tr>\n",
       "      <th>4</th>\n",
       "      <td>j.k. rowling wishes snape happy birthday in th...</td>\n",
       "      <td>0</td>\n",
       "    </tr>\n",
       "  </tbody>\n",
       "</table>\n",
       "</div>"
      ],
      "text/plain": [
       "                                            headline  Target\n",
       "0  former versace store clerk sues over secret 'b...       0\n",
       "1  the 'roseanne' revival catches up to our thorn...       0\n",
       "2  mom starting to fear son's web series closest ...       1\n",
       "3  boehner just wants wife to listen, not come up...       1\n",
       "4  j.k. rowling wishes snape happy birthday in th...       0"
      ]
     },
     "execution_count": 5,
     "metadata": {
      "tags": []
     },
     "output_type": "execute_result"
    }
   ],
   "source": [
    "df.drop('article_link', axis=1, inplace=True)\n",
    "df.columns = ['headline','Target']\n",
    "df.head()"
   ]
  },
  {
   "cell_type": "markdown",
   "metadata": {
    "colab_type": "text",
    "id": "yybLcsOFoVbj"
   },
   "source": [
    "#### Check if the problem is unbalanced:"
   ]
  },
  {
   "cell_type": "code",
   "execution_count": 9,
   "metadata": {
    "colab": {
     "base_uri": "https://localhost:8080/",
     "height": 380
    },
    "colab_type": "code",
    "executionInfo": {
     "elapsed": 878,
     "status": "ok",
     "timestamp": 1585823146209,
     "user": {
      "displayName": "Diego Bettega",
      "photoUrl": "",
      "userId": "03322776042066350638"
     },
     "user_tz": -60
    },
    "id": "WeK-W-qjmhhH",
    "outputId": "c8f2522c-8310-4090-c9b0-2a6ab1139e62"
   },
   "outputs": [
    {
     "name": "stdout",
     "output_type": "stream",
     "text": [
      "56.1% of the values in 'Target' are = 0\n",
      "43.9% of the values in 'Target' are = 1\n",
      "\n",
      "\n"
     ]
    },
    {
     "data": {
      "text/plain": [
       "Text(0.5, 1.0, 'Sarcasm vs Non-sarcasm')"
      ]
     },
     "execution_count": 9,
     "metadata": {
      "tags": []
     },
     "output_type": "execute_result"
    },
    {
     "data": {
      "image/png": "[encoded data removed]",
      "text/plain": [
       "<Figure size 432x288 with 1 Axes>"
      ]
     },
     "metadata": {
      "tags": []
     },
     "output_type": "display_data"
    }
   ],
   "source": [
    "import seaborn as sns\n",
    "import numpy as np\n",
    "import matplotlib.pyplot as plt\n",
    "%matplotlib inline\n",
    "\n",
    "print(\"{:2.1%} of the values in 'Target' are = 0\".format(1-df['Target'].sum()/len(df)))\n",
    "print(\"{:2.1%} of the values in 'Target' are = 1\\n\\n\".format(df['Target'].sum()/len(df)))\n",
    "\n",
    "sns.countplot(df.Target)\n",
    "plt.xlabel('Label')\n",
    "plt.title('Sarcasm vs Non-sarcasm')"
   ]
  },
  {
   "cell_type": "markdown",
   "metadata": {
    "colab_type": "text",
    "id": "RkZm5-yolTih"
   },
   "source": [
    "Ideally you should try clean your sentences in exactly the same way that it's been cleaned for the word embeddings. If you don't do this then later when we try to match words up with vectors we won't find a match!\n",
    "\n",
    "Sadly, I'm not sure how the embeddings used in this data source were used, but this seems fairly close (I've also replaced urls with 'url')"
   ]
  },
  {
   "cell_type": "code",
   "execution_count": 0,
   "metadata": {
    "colab": {},
    "colab_type": "code",
    "id": "gL0yGPmpk_Dz"
   },
   "outputs": [],
   "source": [
    "import re\n",
    "\n",
    "replace_puncts = {'`': \"'\", '′': \"'\", '“':'\"', '”': '\"', '‘': \"'\"}\n",
    "\n",
    "strip_chars = [',', '.', '\"', ':', ')', '(', '-', '|', ';', \"'\", '[', ']', '>', '=', '+', '\\\\', '•',  '~', '@', \n",
    " '·', '_', '{', '}', '©', '^', '®', '`',  '<', '→', '°', '€', '™', '›',  '♥', '←', '×', '§', '″', '′', 'Â', '█', '½', 'à', '…', \n",
    " '“', '★', '”', '–', '●', 'â', '►', '−', '¢', '²', '¬', '░', '¶', '↑', '±', '¿', '▾', '═', '¦', '║', '―', '¥', '▓', '—', '‹', '─', \n",
    " '▒', '：', '¼', '⊕', '▼', '▪', '†', '■', '’', '▀', '¨', '▄', '♫', '☆', 'é', '¯', '♦', '¤', '▲', 'è', '¸', '¾', 'Ã', '⋅', '‘', '∞', \n",
    " '∙', '）', '↓', '、', '│', '（', '»', '，', '♪', '╩', '╚', '³', '・', '╦', '╣', '╔', '╗', '▬', '❤', 'ï', 'Ø', '¹', '≤', '‡', '√', ]\n",
    "\n",
    "puncts = ['!', '?', '$', '&', '/', '%', '#', '*','£']\n",
    "\n",
    "def clean_str(x):\n",
    "    x = str(x)\n",
    "    \n",
    "    x = x.lower()\n",
    "    \n",
    "    x = re.sub(r\"(https?:\\/\\/(?:www\\.|(?!www))[a-zA-Z0-9][a-zA-Z0-9-]+[a-zA-Z0-9]\\.[^\\s]{2,}|www\\.[a-zA-Z0-9][a-zA-Z0-9-]+[a-zA-Z0-9]\\.[^\\s]{2,}|https?:\\/\\/(?:www\\.|(?!www))[a-zA-Z0-9]\\.[^\\s]{2,}|www\\.[a-zA-Z0-9]\\.[^\\s]{2,})\", \"url\", x)\n",
    "    \n",
    "    for k, v in replace_puncts.items():\n",
    "        x = x.replace(k, f' {v} ')\n",
    "        \n",
    "    for punct in strip_chars:\n",
    "        x = x.replace(punct, ' ') \n",
    "    \n",
    "    for punct in puncts:\n",
    "        x = x.replace(punct, f' {punct} ')\n",
    "        \n",
    "    x = x.replace(\" '\", \" \")\n",
    "    x = x.replace(\"' \", \" \")\n",
    "        \n",
    "    return x\n",
    "\n",
    "\n",
    "df['headline'] = df['headline'].apply(clean_str)"
   ]
  },
  {
   "cell_type": "markdown",
   "metadata": {
    "colab_type": "text",
    "id": "D0h6IOxU8OdH"
   },
   "source": [
    "#### Get the length of each line and find the maximum length:"
   ]
  },
  {
   "cell_type": "code",
   "execution_count": 11,
   "metadata": {
    "colab": {
     "base_uri": "https://localhost:8080/",
     "height": 34
    },
    "colab_type": "code",
    "executionInfo": {
     "elapsed": 2162,
     "status": "ok",
     "timestamp": 1585823166916,
     "user": {
      "displayName": "Diego Bettega",
      "photoUrl": "",
      "userId": "03322776042066350638"
     },
     "user_tz": -60
    },
    "id": "BRAsChZAQmr3",
    "outputId": "8d590df6-45f6-40c2-ef96-64e6a2173517"
   },
   "outputs": [
    {
     "name": "stdout",
     "output_type": "stream",
     "text": [
      "The max length is: 258\n"
     ]
    }
   ],
   "source": [
    "lengths = []\n",
    "\n",
    "for i in range(0,len(df)): \n",
    "    length = len(df['headline'][i])\n",
    "    lengths.append(length)\n",
    "\n",
    "maxlen = max(lengths)\n",
    "print(\"The max length is: {}\".format(maxlen))"
   ]
  },
  {
   "cell_type": "markdown",
   "metadata": {
    "colab_type": "text",
    "id": "9ziybaD1RdD9"
   },
   "source": [
    "#### Set different parameters for the model:"
   ]
  },
  {
   "cell_type": "code",
   "execution_count": 0,
   "metadata": {
    "colab": {},
    "colab_type": "code",
    "id": "jPw9gAN_EV6m"
   },
   "outputs": [],
   "source": [
    "max_features = 10000 # this is the number of words we care about\n",
    "maxlen = maxlen\n",
    "embedding_size = 200"
   ]
  },
  {
   "cell_type": "markdown",
   "metadata": {
    "colab_type": "text",
    "id": "9abSe-bM8fn9"
   },
   "source": [
    "#### Apply Keras Tokenizer of headline column of your data:"
   ]
  },
  {
   "cell_type": "code",
   "execution_count": 0,
   "metadata": {
    "colab": {},
    "colab_type": "code",
    "id": "T9Ad26HfTFMS"
   },
   "outputs": [],
   "source": [
    "from tensorflow.keras.preprocessing.text import Tokenizer\n",
    "\n",
    "tokenizer = Tokenizer(num_words=max_features)\n",
    "tokenizer.fit_on_texts(df['headline'].values)"
   ]
  },
  {
   "cell_type": "markdown",
   "metadata": {
    "colab_type": "text",
    "id": "0Ffi63KsST3P"
   },
   "source": [
    "#### Define X and y for your model:"
   ]
  },
  {
   "cell_type": "code",
   "execution_count": 14,
   "metadata": {
    "colab": {
     "base_uri": "https://localhost:8080/",
     "height": 493
    },
    "colab_type": "code",
    "executionInfo": {
     "elapsed": 1947,
     "status": "ok",
     "timestamp": 1585823205735,
     "user": {
      "displayName": "Diego Bettega",
      "photoUrl": "",
      "userId": "03322776042066350638"
     },
     "user_tz": -60
    },
    "id": "wnjxBdqmSS4s",
    "outputId": "c72c9473-8aa4-44a6-c47a-27f537a2a13a"
   },
   "outputs": [
    {
     "name": "stdout",
     "output_type": "stream",
     "text": [
      "Number of Samples: 24038 \n",
      "\n",
      "See an example below:\n",
      "[   0    0    0    0    0    0    0    0    0    0    0    0    0    0\n",
      "    0    0    0    0    0    0    0    0    0    0    0    0    0    0\n",
      "    0    0    0    0    0    0    0    0    0    0    0    0    0    0\n",
      "    0    0    0    0    0    0    0    0    0    0    0    0    0    0\n",
      "    0    0    0    0    0    0    0    0    0    0    0    0    0    0\n",
      "    0    0    0    0    0    0    0    0    0    0    0    0    0    0\n",
      "    0    0    0    0    0    0    0    0    0    0    0    0    0    0\n",
      "    0    0    0    0    0    0    0    0    0    0    0    0    0    0\n",
      "    0    0    0    0    0    0    0    0    0    0    0    0    0    0\n",
      "    0    0    0    0    0    0    0    0    0    0    0    0    0    0\n",
      "    0    0    0    0    0    0    0    0    0    0    0    0    0    0\n",
      "    0    0    0    0    0    0    0    0    0    0    0    0    0    0\n",
      "    0    0    0    0    0    0    0    0    0    0    0    0    0    0\n",
      "    0    0    0    0    0    0    0    0    0    0    0    0    0    0\n",
      "    0    0    0    0    0    0    0    0    0    0    0    0    0    0\n",
      "    0    0    0    0    0    0    0    0    0    0    0    0    0    0\n",
      "    0    0    0    0    0    0    0    0    0    0    0    0    0    0\n",
      "    0    0    0   67    4 4133   52   39 4070  148  173  379    8  466\n",
      "   87   90   81 1844   73  158]\n",
      "\n",
      "\n",
      "Number of Labels:  24038 \n",
      "\n",
      "See an example below:\n",
      "[0 1]\n"
     ]
    }
   ],
   "source": [
    "from tensorflow.keras.preprocessing.sequence import pad_sequences\n",
    "from sklearn.model_selection import train_test_split\n",
    "\n",
    "X = tokenizer.texts_to_sequences(df['headline'].values) # this takes our sentences and replaces each word with an integer\n",
    "X = pad_sequences(X, maxlen = maxlen) # we then pad the sequences so they're all the same length (sequence_length)\n",
    "y = pd.get_dummies(df['Target']).values\n",
    "\n",
    "X_train, X_test, y_train, y_test = train_test_split(X, y, test_size=0.1) # let's keep 10% samples back as a test set\n",
    "\n",
    "print(\"Number of Samples:\", len(X_train),'\\n')\n",
    "print('See an example below:')\n",
    "print(X_train[0])\n",
    "print(\"\\n\\nNumber of Labels: \", len(y_train),'\\n')\n",
    "print('See an example below:')\n",
    "print(y_train[0])"
   ]
  },
  {
   "cell_type": "markdown",
   "metadata": {
    "colab_type": "text",
    "id": "WJLyKg-98rH_"
   },
   "source": [
    "#### Get the vocabulary size:"
   ]
  },
  {
   "cell_type": "code",
   "execution_count": 15,
   "metadata": {
    "colab": {
     "base_uri": "https://localhost:8080/",
     "height": 34
    },
    "colab_type": "code",
    "executionInfo": {
     "elapsed": 1781,
     "status": "ok",
     "timestamp": 1585823213943,
     "user": {
      "displayName": "Diego Bettega",
      "photoUrl": "",
      "userId": "03322776042066350638"
     },
     "user_tz": -60
    },
    "id": "q-2w0gHEUUIo",
    "outputId": "28e174f3-0257-44bb-e242-6391516d7a0d"
   },
   "outputs": [
    {
     "name": "stdout",
     "output_type": "stream",
     "text": [
      "The vocabulary size is: 25344\n"
     ]
    }
   ],
   "source": [
    "voc_size = tokenizer.word_index\n",
    "print('The vocabulary size is: %s' % len(voc_size))"
   ]
  },
  {
   "cell_type": "markdown",
   "metadata": {
    "colab_type": "text",
    "id": "bUF1TuQa8ux0"
   },
   "source": [
    "#### Get Glove Word Embeddings:"
   ]
  },
  {
   "cell_type": "code",
   "execution_count": 0,
   "metadata": {
    "colab": {},
    "colab_type": "code",
    "id": "DJLX_n2WMecA"
   },
   "outputs": [],
   "source": [
    "# Extract Glove embedding zip file\n",
    "from zipfile import ZipFile\n",
    "with ZipFile(\"glove.6B.zip\", 'r') as z:\n",
    "  z.extractall()"
   ]
  },
  {
   "cell_type": "markdown",
   "metadata": {
    "colab_type": "text",
    "id": "9IuXlu8-U3HG"
   },
   "source": [
    "#### Get the Word Embeddings using Embedding file as given below:"
   ]
  },
  {
   "cell_type": "code",
   "execution_count": 0,
   "metadata": {
    "colab": {},
    "colab_type": "code",
    "id": "elZ-T5aFGZmZ"
   },
   "outputs": [],
   "source": [
    "import numpy as np\n",
    "\n",
    "EMBEDDING_FILE = './glove.6B.200d.txt'\n",
    "\n",
    "embeddings = {}\n",
    "for o in open(EMBEDDING_FILE):\n",
    "    word = o.split(\" \")[0]\n",
    "    # print(word)\n",
    "    embd = o.split(\" \")[1:]\n",
    "    embd = np.asarray(embd, dtype='float32')\n",
    "    # print(embd)\n",
    "    embeddings[word] = embd"
   ]
  },
  {
   "cell_type": "markdown",
   "metadata": {
    "colab_type": "text",
    "id": "bTPxveDmVCrA"
   },
   "source": [
    "#### Create a weight matrix for words in training docs:"
   ]
  },
  {
   "cell_type": "code",
   "execution_count": 18,
   "metadata": {
    "colab": {
     "base_uri": "https://localhost:8080/",
     "height": 34
    },
    "colab_type": "code",
    "executionInfo": {
     "elapsed": 124202,
     "status": "ok",
     "timestamp": 1585823345237,
     "user": {
      "displayName": "Diego Bettega",
      "photoUrl": "",
      "userId": "03322776042066350638"
     },
     "user_tz": -60
    },
    "id": "xQgOhiywU9nU",
    "outputId": "c5a6f35f-129d-45fd-df44-7c85a141e58e"
   },
   "outputs": [
    {
     "data": {
      "text/plain": [
       "400000"
      ]
     },
     "execution_count": 18,
     "metadata": {
      "tags": []
     },
     "output_type": "execute_result"
    }
   ],
   "source": [
    "num_words = min(max_features, len(voc_size)) + 1\n",
    "embedding_matrix = np.zeros((num_words, embedding_size)) # first create a matrix of zeros, this is our embedding matrix\n",
    "\n",
    "for word, i in tokenizer.word_index.items(): # for each word in out tokenizer lets try to find that work in our w2v model\n",
    "    if i > max_features:\n",
    "        continue\n",
    "    embedding_vector = embeddings.get(word)\n",
    "    if embedding_vector is not None: # we found the word - add that words vector to the matrix\n",
    "        embedding_matrix[i] = embedding_vector\n",
    "    else:\n",
    "        embedding_matrix[i] = np.random.randn(embedding_size) # doesn't exist, assign a random vector\n",
    "\n",
    "len(embeddings.values())"
   ]
  },
  {
   "cell_type": "markdown",
   "metadata": {
    "colab_type": "text",
    "id": "5vbO97lA6dQr"
   },
   "source": [
    "## Modelling\n",
    "\n",
    "#### Import required modules required for modelling:"
   ]
  },
  {
   "cell_type": "code",
   "execution_count": 0,
   "metadata": {
    "colab": {},
    "colab_type": "code",
    "id": "PUP3vtPb6fEX"
   },
   "outputs": [],
   "source": [
    "from tensorflow.keras.layers import *\n",
    "from tensorflow.keras.models import Model, Sequential\n",
    "from tensorflow.keras.initializers import Constant\n",
    "\n",
    "from sklearn.feature_extraction.text import CountVectorizer\n",
    "from sklearn.metrics import confusion_matrix, accuracy_score\n",
    "from sklearn.model_selection import train_test_split\n",
    "from sklearn import metrics"
   ]
  },
  {
   "cell_type": "markdown",
   "metadata": {
    "colab_type": "text",
    "id": "e6WSCsD6uaqZ"
   },
   "source": [
    "#### Create and Compile the Model:\n",
    "\n",
    "The important bit here is the Embedding, we need to specify the embeddings matrix (the set of vectors representing our words) and for this example I'm going to make them trainable - this means they can be modified during training if something more accurate is found.\n",
    "\n",
    "I am going to try first a LSTM and then a Bidirectional LSTM:"
   ]
  },
  {
   "cell_type": "code",
   "execution_count": 20,
   "metadata": {
    "colab": {
     "base_uri": "https://localhost:8080/",
     "height": 374
    },
    "colab_type": "code",
    "executionInfo": {
     "elapsed": 2310,
     "status": "ok",
     "timestamp": 1585823366131,
     "user": {
      "displayName": "Diego Bettega",
      "photoUrl": "",
      "userId": "03322776042066350638"
     },
     "user_tz": -60
    },
    "id": "YrpVz3_LcvJu",
    "outputId": "c7a52c18-3ef9-4b41-ec05-799f500178f3"
   },
   "outputs": [
    {
     "name": "stdout",
     "output_type": "stream",
     "text": [
      "Model: \"sequential\"\n",
      "_________________________________________________________________\n",
      "Layer (type)                 Output Shape              Param #   \n",
      "=================================================================\n",
      "embedding (Embedding)        (None, 258, 200)          2000200   \n",
      "_________________________________________________________________\n",
      "spatial_dropout1d (SpatialDr (None, 258, 200)          0         \n",
      "_________________________________________________________________\n",
      "lstm (LSTM)                  (None, 258, 128)          168448    \n",
      "_________________________________________________________________\n",
      "lstm_1 (LSTM)                (None, 64)                49408     \n",
      "_________________________________________________________________\n",
      "dropout (Dropout)            (None, 64)                0         \n",
      "_________________________________________________________________\n",
      "dense (Dense)                (None, 2)                 130       \n",
      "=================================================================\n",
      "Total params: 2,218,186\n",
      "Trainable params: 2,218,186\n",
      "Non-trainable params: 0\n",
      "_________________________________________________________________\n",
      "None\n"
     ]
    }
   ],
   "source": [
    "model_LSTM = Sequential()\n",
    "model_LSTM.add(Embedding(num_words,\n",
    "                    embedding_size,\n",
    "                    embeddings_initializer=Constant(embedding_matrix),\n",
    "                    input_length=maxlen,\n",
    "                    trainable=True))\n",
    "model_LSTM.add(SpatialDropout1D(0.2))\n",
    "model_LSTM.add(LSTM(128, return_sequences=True))\n",
    "model_LSTM.add(LSTM(64))\n",
    "model_LSTM.add(Dropout(0.25))\n",
    "model_LSTM.add(Dense(units=2, activation='softmax')) # This code works with 2 or more classes. I could have used sigmoid activation function and bina\n",
    "model_LSTM.compile(loss = 'categorical_crossentropy', optimizer='adam',metrics = ['accuracy'])\n",
    "print(model_LSTM.summary())"
   ]
  },
  {
   "cell_type": "markdown",
   "metadata": {
    "colab_type": "text",
    "id": "u7IbWuEX82Ra"
   },
   "source": [
    "#### Fit the model with a batch size of 100 and validation_split = 0.2. and state the validation accuracy\n"
   ]
  },
  {
   "cell_type": "code",
   "execution_count": 21,
   "metadata": {
    "colab": {
     "base_uri": "https://localhost:8080/",
     "height": 204
    },
    "colab_type": "code",
    "executionInfo": {
     "elapsed": 1419504,
     "status": "ok",
     "timestamp": 1585824798909,
     "user": {
      "displayName": "Diego Bettega",
      "photoUrl": "",
      "userId": "03322776042066350638"
     },
     "user_tz": -60
    },
    "id": "3uasuiGCcwfq",
    "outputId": "1b151266-1985-4295-dea6-edecd5b96f79"
   },
   "outputs": [
    {
     "name": "stdout",
     "output_type": "stream",
     "text": [
      "Train on 19230 samples, validate on 4808 samples\n",
      "Epoch 1/5\n",
      "19230/19230 [==============================] - 293s 15ms/sample - loss: 0.4745 - accuracy: 0.7656 - val_loss: 0.3562 - val_accuracy: 0.8473\n",
      "Epoch 2/5\n",
      "19230/19230 [==============================] - 282s 15ms/sample - loss: 0.3101 - accuracy: 0.8698 - val_loss: 0.3177 - val_accuracy: 0.8661\n",
      "Epoch 3/5\n",
      "19230/19230 [==============================] - 280s 15ms/sample - loss: 0.2349 - accuracy: 0.9058 - val_loss: 0.3043 - val_accuracy: 0.8729\n",
      "Epoch 4/5\n",
      "19230/19230 [==============================] - 279s 15ms/sample - loss: 0.1778 - accuracy: 0.9303 - val_loss: 0.3141 - val_accuracy: 0.8735\n",
      "Epoch 5/5\n",
      "19230/19230 [==============================] - 282s 15ms/sample - loss: 0.1314 - accuracy: 0.9500 - val_loss: 0.3632 - val_accuracy: 0.8731\n"
     ]
    }
   ],
   "source": [
    "batch_size = 100\n",
    "epochs = 5\n",
    "history_LSTM = model_LSTM.fit(X_train, \n",
    "                              y_train, \n",
    "                              epochs = epochs, \n",
    "                              batch_size = batch_size, \n",
    "                              verbose = 1,\n",
    "                              validation_split=0.2)"
   ]
  },
  {
   "cell_type": "markdown",
   "metadata": {
    "colab_type": "text",
    "id": "sBTQY6T9PCq-"
   },
   "source": [
    "#### Visualizations:"
   ]
  },
  {
   "cell_type": "code",
   "execution_count": 22,
   "metadata": {
    "colab": {
     "base_uri": "https://localhost:8080/",
     "height": 313
    },
    "colab_type": "code",
    "executionInfo": {
     "elapsed": 20550,
     "status": "ok",
     "timestamp": 1585824848637,
     "user": {
      "displayName": "Diego Bettega",
      "photoUrl": "",
      "userId": "03322776042066350638"
     },
     "user_tz": -60
    },
    "id": "BvU53Nflcwoa",
    "outputId": "c600f3f3-7990-4724-84c9-2698c25424bb"
   },
   "outputs": [
    {
     "name": "stdout",
     "output_type": "stream",
     "text": [
      "The accuracy for the LSTM is: 87.4%\n",
      "\n"
     ]
    },
    {
     "data": {
      "image/png": "[encoded data removed]",
      "text/plain": [
       "<Figure size 432x288 with 2 Axes>"
      ]
     },
     "metadata": {
      "tags": []
     },
     "output_type": "display_data"
    }
   ],
   "source": [
    "y_pred_LSTM = model_LSTM.predict(X_test)\n",
    "\n",
    "print(\"The accuracy for the LSTM is: {:2.1%}\\n\".format(accuracy_score(list(map(lambda x: np.argmax(x), y_test)), list(map(lambda x: np.argmax(x), y_pred_LSTM)))))\n",
    "cm = metrics.confusion_matrix(list(map(lambda x: np.argmax(x), y_test)),list(map(lambda x: np.argmax(x), y_pred_LSTM)),[1,0])\n",
    "cm = cm/cm.sum()\n",
    "sns.heatmap(cm, \n",
    "            annot=True,  \n",
    "            annot_kws={'size': 15},\n",
    "            fmt='.1%', \n",
    "            xticklabels = [\"1\", \"0\"], \n",
    "            yticklabels = [\"1\", \"0\"], \n",
    "            linecolor='white',\n",
    "            cmap='YlGnBu')\n",
    "plt.ylabel('True label')\n",
    "plt.xlabel('Predicted label')\n",
    "plt.show()"
   ]
  },
  {
   "cell_type": "code",
   "execution_count": 23,
   "metadata": {
    "colab": {
     "base_uri": "https://localhost:8080/",
     "height": 573
    },
    "colab_type": "code",
    "executionInfo": {
     "elapsed": 2363,
     "status": "ok",
     "timestamp": 1585824866010,
     "user": {
      "displayName": "Diego Bettega",
      "photoUrl": "",
      "userId": "03322776042066350638"
     },
     "user_tz": -60
    },
    "id": "tCp7VaKIcwrY",
    "outputId": "adff0293-944c-4103-ae8d-7d3f8f9f2944"
   },
   "outputs": [
    {
     "data": {
      "image/png": "[encoded data removed]",
      "text/plain": [
       "<Figure size 432x288 with 1 Axes>"
      ]
     },
     "metadata": {
      "tags": []
     },
     "output_type": "display_data"
    },
    {
     "data": {
      "image/png": "[encoded data removed]",
      "text/plain": [
       "<Figure size 432x288 with 1 Axes>"
      ]
     },
     "metadata": {
      "tags": []
     },
     "output_type": "display_data"
    }
   ],
   "source": [
    "plt.plot(history_LSTM.history['accuracy'])\n",
    "plt.plot(history_LSTM.history['val_accuracy'])\n",
    "plt.title('LSTM accuracy')\n",
    "plt.ylabel('accuracy')\n",
    "plt.xlabel('epoch')\n",
    "plt.legend(['train', 'validation'], loc='upper left')\n",
    "plt.show()\n",
    "\n",
    "plt.plot(history_LSTM.history['loss'])\n",
    "plt.plot(history_LSTM.history['val_loss'])\n",
    "plt.title('LSTM loss')\n",
    "plt.ylabel('loss')\n",
    "plt.xlabel('epoch')\n",
    "plt.legend(['train', 'validation'], loc='upper left')\n",
    "plt.show()"
   ]
  },
  {
   "cell_type": "markdown",
   "metadata": {
    "colab_type": "text",
    "id": "xkAZcCdJdd1T"
   },
   "source": [
    "#### Now I can try with a Bidirectional LSTM:"
   ]
  },
  {
   "cell_type": "code",
   "execution_count": 24,
   "metadata": {
    "colab": {
     "base_uri": "https://localhost:8080/",
     "height": 374
    },
    "colab_type": "code",
    "executionInfo": {
     "elapsed": 2928,
     "status": "ok",
     "timestamp": 1585824872325,
     "user": {
      "displayName": "Diego Bettega",
      "photoUrl": "",
      "userId": "03322776042066350638"
     },
     "user_tz": -60
    },
    "id": "LyNAX-qn1ia5",
    "outputId": "851f523f-d2d6-486b-ae5a-a3f8b41cd2e0"
   },
   "outputs": [
    {
     "name": "stdout",
     "output_type": "stream",
     "text": [
      "Model: \"sequential_1\"\n",
      "_________________________________________________________________\n",
      "Layer (type)                 Output Shape              Param #   \n",
      "=================================================================\n",
      "embedding_1 (Embedding)      (None, 258, 200)          2000200   \n",
      "_________________________________________________________________\n",
      "spatial_dropout1d_1 (Spatial (None, 258, 200)          0         \n",
      "_________________________________________________________________\n",
      "bidirectional (Bidirectional (None, 258, 256)          336896    \n",
      "_________________________________________________________________\n",
      "bidirectional_1 (Bidirection (None, 128)               164352    \n",
      "_________________________________________________________________\n",
      "dropout_1 (Dropout)          (None, 128)               0         \n",
      "_________________________________________________________________\n",
      "dense_1 (Dense)              (None, 2)                 258       \n",
      "=================================================================\n",
      "Total params: 2,501,706\n",
      "Trainable params: 2,501,706\n",
      "Non-trainable params: 0\n",
      "_________________________________________________________________\n",
      "None\n"
     ]
    }
   ],
   "source": [
    "model_BLSTM = Sequential()\n",
    "model_BLSTM.add(Embedding(num_words,\n",
    "                          embedding_size,\n",
    "                          embeddings_initializer=Constant(embedding_matrix),\n",
    "                          input_length=maxlen,\n",
    "                          trainable=True))\n",
    "model_BLSTM.add(SpatialDropout1D(0.2))\n",
    "model_BLSTM.add(Bidirectional(LSTM(128, return_sequences=True)))\n",
    "model_BLSTM.add(Bidirectional(LSTM(64)))\n",
    "model_BLSTM.add(Dropout(0.25))\n",
    "model_BLSTM.add(Dense(units=2, activation='softmax')) # This code works with 2 or more classes. I could have used sigmoid activation function and bina\n",
    "model_BLSTM.compile(loss = 'categorical_crossentropy', optimizer='adam',metrics = ['accuracy'])\n",
    "print(model_BLSTM.summary())"
   ]
  },
  {
   "cell_type": "code",
   "execution_count": 25,
   "metadata": {
    "colab": {
     "base_uri": "https://localhost:8080/",
     "height": 204
    },
    "colab_type": "code",
    "executionInfo": {
     "elapsed": 3105555,
     "status": "ok",
     "timestamp": 1585827980858,
     "user": {
      "displayName": "Diego Bettega",
      "photoUrl": "",
      "userId": "03322776042066350638"
     },
     "user_tz": -60
    },
    "id": "w05lqYfLT-Pt",
    "outputId": "314d0014-111c-4638-a437-c7cb842f1abd"
   },
   "outputs": [
    {
     "name": "stdout",
     "output_type": "stream",
     "text": [
      "Train on 19230 samples, validate on 4808 samples\n",
      "Epoch 1/5\n",
      "19230/19230 [==============================] - 643s 33ms/sample - loss: 0.4782 - accuracy: 0.7646 - val_loss: 0.3556 - val_accuracy: 0.8419\n",
      "Epoch 2/5\n",
      "19230/19230 [==============================] - 614s 32ms/sample - loss: 0.3032 - accuracy: 0.8730 - val_loss: 0.3176 - val_accuracy: 0.8611\n",
      "Epoch 3/5\n",
      "19230/19230 [==============================] - 620s 32ms/sample - loss: 0.2281 - accuracy: 0.9086 - val_loss: 0.3037 - val_accuracy: 0.8706\n",
      "Epoch 4/5\n",
      "19230/19230 [==============================] - 620s 32ms/sample - loss: 0.1724 - accuracy: 0.9352 - val_loss: 0.3362 - val_accuracy: 0.8688\n",
      "Epoch 5/5\n",
      "19230/19230 [==============================] - 605s 31ms/sample - loss: 0.1295 - accuracy: 0.9515 - val_loss: 0.3715 - val_accuracy: 0.8702\n"
     ]
    }
   ],
   "source": [
    "batch_size = 100\n",
    "epochs = 5\n",
    "history_BLSTM = model_BLSTM.fit(X_train, \n",
    "                                y_train, \n",
    "                                epochs = epochs, \n",
    "                                batch_size = batch_size, \n",
    "                                verbose = 1,\n",
    "                                validation_split=0.2)"
   ]
  },
  {
   "cell_type": "code",
   "execution_count": 26,
   "metadata": {
    "colab": {
     "base_uri": "https://localhost:8080/",
     "height": 313
    },
    "colab_type": "code",
    "executionInfo": {
     "elapsed": 42081,
     "status": "ok",
     "timestamp": 1585829010859,
     "user": {
      "displayName": "Diego Bettega",
      "photoUrl": "",
      "userId": "03322776042066350638"
     },
     "user_tz": -60
    },
    "id": "mfop3_UneAf4",
    "outputId": "09c5fa70-81cb-4795-a145-2a1c60e336df"
   },
   "outputs": [
    {
     "name": "stdout",
     "output_type": "stream",
     "text": [
      "The accuracy for the bidirectional LSTM is: 87.6%\n",
      "\n"
     ]
    },
    {
     "data": {
      "image/png": "[encoded data removed]",
      "text/plain": [
       "<Figure size 432x288 with 2 Axes>"
      ]
     },
     "metadata": {
      "tags": []
     },
     "output_type": "display_data"
    }
   ],
   "source": [
    "y_pred_BLSTM = model_BLSTM.predict(X_test)\n",
    "\n",
    "print(\"The accuracy for the bidirectional LSTM is: {:2.1%}\\n\".format(accuracy_score(list(map(lambda x: np.argmax(x), y_test)), list(map(lambda x: np.argmax(x), y_pred_BLSTM)))))\n",
    "cm = metrics.confusion_matrix(list(map(lambda x: np.argmax(x), y_test)),list(map(lambda x: np.argmax(x), y_pred_BLSTM)),[1,0])\n",
    "cm = cm/cm.sum()\n",
    "sns.heatmap(cm, \n",
    "            annot=True,  \n",
    "            annot_kws={'size': 15},\n",
    "            fmt='.1%', \n",
    "            xticklabels = [\"1\", \"0\"], \n",
    "            yticklabels = [\"1\", \"0\"], \n",
    "            linecolor='white',\n",
    "            cmap='YlGnBu')\n",
    "plt.ylabel('True label')\n",
    "plt.xlabel('Predicted label')\n",
    "plt.show()"
   ]
  },
  {
   "cell_type": "markdown",
   "metadata": {
    "colab_type": "text",
    "id": "mkwI6Perxw_3"
   },
   "source": [
    "Bidirectional LSTM worked sligthly better on the test set. "
   ]
  },
  {
   "cell_type": "code",
   "execution_count": 27,
   "metadata": {
    "colab": {
     "base_uri": "https://localhost:8080/",
     "height": 573
    },
    "colab_type": "code",
    "executionInfo": {
     "elapsed": 1154,
     "status": "ok",
     "timestamp": 1585829023278,
     "user": {
      "displayName": "Diego Bettega",
      "photoUrl": "",
      "userId": "03322776042066350638"
     },
     "user_tz": -60
    },
    "id": "OplxGtAo4-1E",
    "outputId": "4614a97c-e05c-4cc6-becc-f1e76094bec8"
   },
   "outputs": [
    {
     "data": {
      "image/png": "[encoded data removed]",
      "text/plain": [
       "<Figure size 432x288 with 1 Axes>"
      ]
     },
     "metadata": {
      "tags": []
     },
     "output_type": "display_data"
    },
    {
     "data": {
      "image/png": "[encoded data removed]",
      "text/plain": [
       "<Figure size 432x288 with 1 Axes>"
      ]
     },
     "metadata": {
      "tags": []
     },
     "output_type": "display_data"
    }
   ],
   "source": [
    "plt.plot(history_BLSTM.history['accuracy'])\n",
    "plt.plot(history_BLSTM.history['val_accuracy'])\n",
    "plt.title('BLSTM accuracy')\n",
    "plt.ylabel('accuracy')\n",
    "plt.xlabel('epoch')\n",
    "plt.legend(['train', 'validation'], loc='upper left')\n",
    "plt.show()\n",
    "\n",
    "plt.plot(history_BLSTM.history['loss'])\n",
    "plt.plot(history_BLSTM.history['val_loss'])\n",
    "plt.title('BLSTM loss')\n",
    "plt.ylabel('loss')\n",
    "plt.xlabel('epoch')\n",
    "plt.legend(['train', 'validation'], loc='upper left')\n",
    "plt.show()"
   ]
  },
  {
   "cell_type": "markdown",
   "metadata": {
    "colab_type": "text",
    "id": "3CV-4Ky7dQQF"
   },
   "source": [
    "#### I can also compare the 2 losses:"
   ]
  },
  {
   "cell_type": "code",
   "execution_count": 28,
   "metadata": {
    "colab": {
     "base_uri": "https://localhost:8080/",
     "height": 295
    },
    "colab_type": "code",
    "executionInfo": {
     "elapsed": 987,
     "status": "ok",
     "timestamp": 1585829028452,
     "user": {
      "displayName": "Diego Bettega",
      "photoUrl": "",
      "userId": "03322776042066350638"
     },
     "user_tz": -60
    },
    "id": "UejA_rs-RMrU",
    "outputId": "69d4fb84-3135-48e0-b459-2389c082a4f7"
   },
   "outputs": [
    {
     "data": {
      "image/png": "[encoded data removed]",
      "text/plain": [
       "<Figure size 432x288 with 1 Axes>"
      ]
     },
     "metadata": {
      "tags": []
     },
     "output_type": "display_data"
    }
   ],
   "source": [
    "plt.plot(history_BLSTM.history['val_loss'])\n",
    "plt.plot(history_LSTM.history['val_loss'])\n",
    "plt.title('model accuracy')\n",
    "plt.ylabel('loss')\n",
    "plt.xlabel('epoch')\n",
    "plt.legend(['BLSTM', 'LSTM'], loc='upper left')\n",
    "plt.show()"
   ]
  },
  {
   "cell_type": "markdown",
   "metadata": {
    "colab_type": "text",
    "id": "rUCliOAaXuZx"
   },
   "source": [
    "Both the model had the MIN validation loss after 2 epochs. After that, they startedto overfit. I should retrain the models."
   ]
  },
  {
   "cell_type": "markdown",
   "metadata": {
    "colab_type": "text",
    "id": "N320QEOTVQa1"
   },
   "source": [
    "Let's check it's score on sarcastic & non-sarcastic headlines respectively:"
   ]
  },
  {
   "cell_type": "code",
   "execution_count": 34,
   "metadata": {
    "colab": {
     "base_uri": "https://localhost:8080/",
     "height": 51
    },
    "colab_type": "code",
    "executionInfo": {
     "elapsed": 218206,
     "status": "ok",
     "timestamp": 1585829891989,
     "user": {
      "displayName": "Diego Bettega",
      "photoUrl": "",
      "userId": "03322776042066350638"
     },
     "user_tz": -60
    },
    "id": "k2I9xpMbVM7G",
    "outputId": "a2a19fc1-6283-42c1-f7e4-37b609187dbf"
   },
   "outputs": [
    {
     "name": "stdout",
     "output_type": "stream",
     "text": [
      "Sarcasm_acc 84.9 %\n",
      "Non-Sarcasm_acc 89.6 %\n"
     ]
    }
   ],
   "source": [
    "pos_cnt, neg_cnt, pos_correct, neg_correct = 0, 0, 0, 0\n",
    "for x in range(len(X_test)):\n",
    "    \n",
    "    result = model_BLSTM.predict(X_test[x].reshape(1,X_test.shape[1]),batch_size=1,verbose = 0)[0]\n",
    "   \n",
    "    if np.argmax(result) == np.argmax(y_test[x]):\n",
    "        if np.argmax(y_test[x]) == 0:\n",
    "            neg_correct += 1\n",
    "        else:\n",
    "            pos_correct += 1\n",
    "       \n",
    "    if np.argmax(y_test[x]) == 0:\n",
    "        neg_cnt += 1\n",
    "    else:\n",
    "        pos_cnt += 1\n",
    "\n",
    "\n",
    "\n",
    "print(\"Sarcasm_acc\", round(pos_correct/pos_cnt*100,1), \"%\")\n",
    "print(\"Non-Sarcasm_acc\", round(neg_correct/neg_cnt*100,1), \"%\")"
   ]
  }
 ],
 "metadata": {
  "accelerator": "GPU",
  "colab": {
   "collapsed_sections": [],
   "name": "NLP_Sarcasm_Detection.ipynb",
   "provenance": []
  },
  "kernelspec": {
   "display_name": "Python 3",
   "language": "python",
   "name": "python3"
  },
  "language_info": {
   "codemirror_mode": {
    "name": "ipython",
    "version": 3
   },
   "file_extension": ".py",
   "mimetype": "text/x-python",
   "name": "python",
   "nbconvert_exporter": "python",
   "pygments_lexer": "ipython3",
   "version": "3.7.4"
  }
 },
 "nbformat": 4,
 "nbformat_minor": 1
}
